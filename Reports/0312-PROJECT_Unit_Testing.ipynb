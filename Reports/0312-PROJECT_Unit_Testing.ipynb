{
 "cells": [
  {
   "cell_type": "markdown",
   "metadata": {},
   "source": [
    "# <center>Building testing suite for a project</center>\n",
    "\n",
    "<img src=\"https://docs.pytest.org/en/stable/_static/pytest1.png\" width=20% alt=\"pyTest logo\">\n",
    "\n",
    "One of the tools to make your software package bug-free, or at least robust as possible, is to add testing classes/methods to your code. These methods, in connection with module **pytest** enable you to test if your current version of the code still performs as intended. This is specially important as the code is evolving all the time and with new functionality, old functionality might fail.\n",
    "\n",
    "The most common reasons for not using these tools is that people **a)** don't know they exist or **b)** the learning curve is too high for using them.\n",
    "\n",
    "One of the major goals of this course is to give each of you an opportunity to learn the basics of these types of tools and try to lower the barriers for you to adopt and use them in your research. The commonly used testing environments in Python are:\n",
    "\n",
    " - [unittest](https://docs.python.org/3/library/unittest.html)\n",
    " - [nose](https://pypi.org/project/nose/)\n",
    " - [pytest](https://docs.pytest.org/)\n"
   ]
  },
  {
   "cell_type": "markdown",
   "metadata": {},
   "source": [
    "For this assignment you could use any testing environment you like. The instructions below will be written for **pytest**. Your Anaconda installation should have ```pyTest``` module already installed, but check if this is the case:\n",
    "\n",
    " - **Linux/macOS/Unix**: in *terminal*, write the following: ```conda list | grep pytest```\n",
    "\n",
    " - **Windows**: in *Anaconda Prompt* or *PowerShell*, use the following command: ```conda list | findstr \"pytest\"```\n",
    "\n",
    "If the command shows few line with **pytest** in them, you are good to go. If not, install pytest with: ```conda install pytest```. \n",
    "\n",
    "Before writing test scripts for pytest, first watch short video about usage of pytest."
   ]
  },
  {
   "cell_type": "code",
   "execution_count": 1,
   "metadata": {},
   "outputs": [
    {
     "data": {
      "image/jpeg": "[encoded data removed]",
      "text/html": [
       "\n",
       "        <iframe\n",
       "            width=\"640\"\n",
       "            height=\"360\"\n",
       "            src=\"https://www.youtube.com/embed/_QtM7QGuj1A?cc_load_policy=True\"\n",
       "            frameborder=\"0\"\n",
       "            allowfullscreen\n",
       "        ></iframe>\n",
       "        "
      ],
      "text/plain": [
       "<IPython.lib.display.YouTubeVideo at 0x1c4cdff7188>"
      ]
     },
     "execution_count": 1,
     "metadata": {},
     "output_type": "execute_result"
    }
   ],
   "source": [
    "from IPython.display import YouTubeVideo\n",
    "YouTubeVideo(\"_QtM7QGuj1A\",width=640,height=360,cc_load_policy=True)"
   ]
  },
  {
   "cell_type": "markdown",
   "metadata": {},
   "source": [
    "---\n",
    "# Instructions\n",
    "\n",
    "The above video suggests to store testing script next to (in the same directory) as your Python scripts. However, another good thing to do is create a subdirectory named **_tests_** inside the ```ProjectName-->mysourcename``` directory.  Your folder structure should look something like this:\n",
    "\n",
    "\n",
    "    ProjectName/\n",
    "        .gitignore\n",
    "        docs/\n",
    "             package_name/\n",
    "                  module1.html\n",
    "                  module2.html\n",
    "             images/\n",
    "                  image1.jpg\n",
    "        environments.yml\n",
    "        Examples/\n",
    "              datafile1.csv\n",
    "              datafile2.tiff\n",
    "              datafile3.xls\n",
    "        LICENSE.txt\n",
    "        makefile\n",
    "        Models/\n",
    "             Otimization_Report.ipynb\n",
    "             Statistical_Methods_Report.ipynb\n",
    "             Graph_Theory_Report.ipynb\n",
    "             ABM_Report.ipynb\n",
    "             ML_Report.ipynb\n",
    "             ODE_Report.ipynb\n",
    "        package_name/\n",
    "              __init__.py\n",
    "              module1.py\n",
    "              module2.py\n",
    "              test/\n",
    "                  __init__.py\n",
    "                  test_module1.py\n",
    "                  test_module2.py\n",
    "        README.md\n",
    "        setup.py\n",
    "        Tutorial.ipynb\n",
    "\n",
    "       "
   ]
  },
  {
   "cell_type": "markdown",
   "metadata": {},
   "source": [
    "## Short hands-on practice of writing test scripts"
   ]
  },
  {
   "cell_type": "markdown",
   "metadata": {},
   "source": [
    "The easiest way to learn programming is to learn it firsthand, so lets create simple script for loading \"input\" file to your code and testing script to test if the function performs as intended. \n",
    "\n",
    "Testing can be done for individual objects/classes/methods/functions or of the program as a whole. The best is to test small pieces of codes (classes or functions) first and then later the whole code as the code grows.\n",
    "\n",
    "For this practice lets create a folder called ```unitpractice``` with the following structure:\n",
    "\n",
    "\n",
    "    unitpractice/\n",
    "        input_good.inp\n",
    "        input_bad.inp\n",
    "        code/\n",
    "              __init__.py\n",
    "              read_file.py\n",
    "              test/\n",
    "                  __init__.py\n",
    "                  test_module1.py\n",
    "                  test_module2.py\n",
    "\n",
    "        \n",
    "       "
   ]
  },
  {
   "cell_type": "markdown",
   "metadata": {},
   "source": [
    "&#9989; **<font color=red>Step 1:</font>** For the purpose of the test, create a short Python file named ```read_file.py``` in your code directory. The purpose of the function is to read input for for your \"simulation\". The content of the file is as follows:\n",
    "```python\n",
    "import numpy as np \n",
    "import os\n",
    "\n",
    "def read_file(filename):\n",
    "    '''\n",
    "        Read input file with given name.\n",
    "        \n",
    "        Args:\n",
    "            filename (string): full path for input file\n",
    "        Returns:\n",
    "            (numpy array): the content of the file\n",
    "    '''\n",
    "    if not os.path.isfile(filename):\n",
    "        raise ValueError(\"Input file does not exist: {0}. I'll quit now.\".format(filename))\n",
    "\n",
    "    # code to load and parse the data from input file\n",
    "    data = np.loadtxt(filename, delimiter=',')\n",
    "\n",
    "    if len(data) < 5:\n",
    "        # there should be 5 rows\n",
    "        raise ValueError(\"Not enough rows in input file.\")\n",
    "\n",
    "    return data\n",
    "```"
   ]
  },
  {
   "cell_type": "markdown",
   "metadata": {},
   "source": [
    "&#9989; **<font color=red>Step 2:</font>** Following the naming convention for test scripts, create a Python script named ```test_read_file.py``` in directory ```tests```. The test will check if function for loading an input file can handle different input parameters: if the file exists, if the content of the file is not complete, etc. \n",
    "\n",
    "The test script will have 3 functions, each testing different functionality of the ```read_file``` function. When testing, 3 tests will be performed and if all goes according to plan, testing should result in **3 tests passed**.\n",
    "\n",
    "The content of the file is following:\n",
    "\n",
    "```python \n",
    "import read_file\n",
    "import pytest\n",
    "import numpy as np \n",
    "\n",
    "def test_file_load_good():\n",
    "    # test if function returns numpy array for good input file.\n",
    "    data = read_file.read_file(\"input_good.inp\")\n",
    "    assert type(data) == np.ndarray\n",
    "\n",
    "def test_file_load_bad():\n",
    "    # Test if the function raises the exception if nonexisting file name is passed as parameter.\n",
    "    with pytest.raises(ValueError) as excinfo:\n",
    "        read_file.read_file(\"input_bad.inp\")\n",
    "\n",
    "    assert \"enough rows in input file\" in str(excinfo.value)\n",
    "\n",
    "def test_file_load_missing_file():\n",
    "    # Test if the function raises the exception if nonexisting file name is passed as parameter.\n",
    "    with pytest.raises(ValueError) as excinfo:\n",
    "        read_file.read_file(\"non-existing_file.txt\")\n",
    "\n",
    "    assert \"file does not exist\" in str(excinfo.value)\n",
    "    \n",
    " \n",
    "```\n"
   ]
  },
  {
   "cell_type": "markdown",
   "metadata": {},
   "source": [
    "&#9989; **<font color=red>Step 3:</font>** Create following two input files we will use for testing. They should be in the same directory as testing script:\n",
    "\n",
    " - file ```input_good.inp```:\n",
    "```\n",
    "# header line\n",
    "1\n",
    "2\n",
    "3\n",
    "4\n",
    "5\n",
    "```\n",
    "\n",
    "\n",
    " - file ```input_bad.inp```:\n",
    "```\n",
    "# header line\n",
    "1\n",
    "2\n",
    "3\n",
    "4\n",
    "```\n"
   ]
  },
  {
   "cell_type": "markdown",
   "metadata": {},
   "source": [
    "&#9989; **<font color=red>Step 4:</font>** Let's test our code with a test file. Open a terminal, if you haven't it already, and go to testing directory (directory ```tests``` in your project). \n",
    "\n",
    "Setup ```PYTHONPATH``` to include directory where your source files are locate, and also newly created ```read_file.py``` - similar as you did when creating documentastion for your project. The command is: \n",
    "\n",
    " - **Linux/Unix/macOS**: ```export PYTHOPATH=<path-to-your-unitpractice-directory>:$PYTHONPATH```\n",
    " \n",
    " - **Windows** (in Anaconda Shell or Power Shell): ```set PYTHONPATH=<path-to-your-unitpractice-directory>;%PYTHONPATH%```\n",
    " "
   ]
  },
  {
   "cell_type": "markdown",
   "metadata": {},
   "source": [
    "Instead, I just used the os and sys packages to add the code read_file to directory so I didnt have to change pythonpath. I did this because I could not find a way that would change pythonpath without changing the main python path, which i did not want to do.\n",
    "\n",
    "```python \n",
    "import os\n",
    "import sys\n",
    "sys.path.insert(0, os.path.join(os.path.dirname(__file__)))\n",
    "sys.path.insert(0, os.path.join(os.path.dirname(__file__),'..'))\n",
    "    \n",
    " \n",
    "```\n",
    "\n"
   ]
  },
  {
   "cell_type": "markdown",
   "metadata": {},
   "source": [
    "> _**NOTE**_:  Turns out getting pytest to work on windows may be a bit tricky.  Different windows setups are acting differently and the instructor has not found a solution that works on all systems.  If you are using Powershell you may need to use the following syntax to set your PYTHONPATH\n",
    ">\n",
    "> ```$env:PYTHONPATH = “path-to-your-unitpractice-directory”```\n",
    "\n",
    " "
   ]
  },
  {
   "cell_type": "markdown",
   "metadata": {},
   "source": [
    "When path is set, run pytest from inside your unitpractice directory with:\n",
    "\n",
    "```pytest code```\n",
    "\n",
    "and the test should output the results of testing in the last line of the input. The line include number of passed and failed tests. In the example above, it should say that 3 tests passed (we had three functions in our test script) - the function ```read_file``` performs as intended.\n",
    "\n",
    "Two different ways to run the tests:\n",
    "\n",
    " - to get more verbose output of test performed, add ```-v``` argument to the **pytest**: ```pytest -v test_read_file.py```\n",
    " \n"
   ]
  },
  {
   "cell_type": "markdown",
   "metadata": {},
   "source": [
    "&#9989; **<font color=red>Step 5:</font>** Now change the Python script in a way, that the test will fail! Run testing with more verbose output (```-v```) to see what is tested and which test failed.\n",
    "\n",
    "There are many ways to do that, few of them are:\n",
    "\n",
    " 1. try testing input file **input_good.inp** in test function ```test_file_load_bad```. Test now fails. Why?\n",
    " 2. try returning **list** in ```read_file``` instead of **numpy array**. That test now fails.\n",
    " \n",
    " "
   ]
  },
  {
   "cell_type": "markdown",
   "metadata": {},
   "source": [
    "1. This failed because \"Failed: DID NOT RAISE <class 'ValueError'>\" I think this means that it did not fail because it worked?\n",
    "2. This did not make it fail."
   ]
  },
  {
   "cell_type": "markdown",
   "metadata": {},
   "source": [
    "## Write a testing script for your project"
   ]
  },
  {
   "cell_type": "markdown",
   "metadata": {},
   "source": [
    "&#9989; **<font color=red>Step 1:</font>** First **idetify the class/method you wish to test**: that is the core computational method or your code or simple reading in input parameters. For chosen method, define **input parameters** and **expected results** for those parameters. With testing you will ensure the methods will return expected results for certain input parameters.\n"
   ]
  },
  {
   "cell_type": "markdown",
   "metadata": {},
   "source": [
    "&#9989; **<font color=red>Step 2:</font>** Write a testing script in directory ```tests``` and confirm that test script can catch errors in the selected function - the same was as in **Step 4** on previous section.\n"
   ]
  },
  {
   "cell_type": "markdown",
   "metadata": {},
   "source": [
    "&#9989; **<font color=red>Step 3:</font>** Now you are ready to use pytest to harden your code and reduce the number of bugs!"
   ]
  },
  {
   "cell_type": "markdown",
   "metadata": {},
   "source": [
    "## Advanced users\n",
    "\n",
    "In your projects we had you include a makefile.  If you are running on a system with the \"Make\" program installed you should be able to run using the following command:\n",
    "\n",
    "    make test\n",
    "    \n",
    "Note this is likely how your professor will get things working. "
   ]
  },
  {
   "cell_type": "markdown",
   "metadata": {},
   "source": [
    "## Cleaning you project directory\n",
    "\n",
    "If testing in **steps 1-4** was successful, you can delete files we used in this test: \n",
    " - three files in directory ```tests```: test_read_file.py, input_good.inp, input_bad.inp\n",
    " - Python script in your project directory: read_file.py\n",
    " \n",
    "These files were there only for practicing testing. But you can keep them and use them as a basis for your scripts."
   ]
  },
  {
   "cell_type": "markdown",
   "metadata": {},
   "source": [
    "## Additional reading - not mandatory!\n",
    "\n",
    "If you want to learn more about testing, adding options, parameters or pytest fixes, following videos would a good start. They are continuation of video from the beginning of this document:\n",
    "\n",
    "- Python Unit Testing With Pytest, video 2, 3, and 4\n"
   ]
  },
  {
   "cell_type": "code",
   "execution_count": null,
   "metadata": {},
   "outputs": [],
   "source": [
    "YouTubeVideo(\"VKY-0LEmrwk\",width=640,height=360,cc_load_policy=1)"
   ]
  },
  {
   "cell_type": "code",
   "execution_count": null,
   "metadata": {},
   "outputs": [],
   "source": [
    "YouTubeVideo(\"7qMhuVGqGY4\",width=640,height=360,cc_load_policy=1)"
   ]
  },
  {
   "cell_type": "code",
   "execution_count": null,
   "metadata": {},
   "outputs": [],
   "source": [
    "YouTubeVideo(\"JJmTO95AoqE\",width=640,height=360,cc_load_policy=1)"
   ]
  },
  {
   "cell_type": "markdown",
   "metadata": {},
   "source": [
    "---\n",
    "### Getting credit for your assignment\n",
    "\n",
    "Now, you just need to commit and push this report to your project git repository. Your instructor will download your repository and check your lint using the ```make test``` command so make sure that is working. "
   ]
  },
  {
   "cell_type": "markdown",
   "metadata": {},
   "source": [
    "-----\n",
    "### Congratulations, you are done!"
   ]
  }
 ],
 "metadata": {
  "anaconda-cloud": {},
  "kernelspec": {
   "display_name": "Python 3",
   "language": "python",
   "name": "python3"
  },
  "language_info": {
   "codemirror_mode": {
    "name": "ipython",
    "version": 3
   },
   "file_extension": ".py",
   "mimetype": "text/x-python",
   "name": "python",
   "nbconvert_exporter": "python",
   "pygments_lexer": "ipython3",
   "version": "3.7.6"
  }
 },
 "nbformat": 4,
 "nbformat_minor": 4
}
